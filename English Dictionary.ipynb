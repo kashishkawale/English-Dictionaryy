{
 "cells": [
  {
   "cell_type": "code",
   "execution_count": 1,
   "id": "6bddfa81-e87f-4356-9a10-1ec70cbbdc87",
   "metadata": {},
   "outputs": [],
   "source": [
    "import tkinter as tk\n",
    "from tkinter import messagebox\n",
    "import requests\n",
    "\n",
    "def get_meaning(word):\n",
    "    word = word.lower()\n",
    "    url = f\"https://api.dictionaryapi.dev/api/v2/entries/en/{word}\"\n",
    "    response = requests.get(url)\n",
    "    if response.status_code == 200:\n",
    "        data = response.json()\n",
    "        meanings = []\n",
    "        for item in data[0][\"meanings\"]:\n",
    "            meanings.append(item[\"definitions\"][0][\"definition\"])\n",
    "        return meanings\n",
    "    else:\n",
    "        return [\"Sorry, the word is not in the dictionary\"]\n",
    "\n",
    "def search_word():\n",
    "    word = entry.get()\n",
    "    if word.lower() == 'quit':\n",
    "        root.quit()\n",
    "    meanings = get_meaning(word)\n",
    "    text_area.delete('1.0', tk.END)\n",
    "    text_area.insert(tk.END, \"Meaning(s):\\n\")\n",
    "    for i, meaning in enumerate(meanings, start=1):\n",
    "        text_area.insert(tk.END, f\"{i}. {meaning}\\n\")\n",
    "\n",
    "root = tk.Tk()\n",
    "root.title(\"Dictionary API\")\n",
    "\n",
    "label = tk.Label(root, text=\"Enter a word (or 'quit' to exit):\")\n",
    "label.pack()\n",
    "\n",
    "entry = tk.Entry(root)\n",
    "entry.pack()\n",
    "\n",
    "button = tk.Button(root, text=\"Search\", command=search_word)\n",
    "button.pack()\n",
    "\n",
    "text_area = tk.Text(root)\n",
    "text_area.pack()\n",
    "\n",
    "root.mainloop()"
   ]
  },
  {
   "cell_type": "code",
   "execution_count": null,
   "id": "34700974-9aa6-4b33-9f29-af541a70b350",
   "metadata": {},
   "outputs": [],
   "source": []
  },
  {
   "cell_type": "code",
   "execution_count": null,
   "id": "f7d7c149-fb94-4a50-aee2-b1a27c583cce",
   "metadata": {},
   "outputs": [],
   "source": []
  },
  {
   "cell_type": "code",
   "execution_count": null,
   "id": "8ec3022f-f3eb-48c0-ab1c-ad840408c93d",
   "metadata": {},
   "outputs": [],
   "source": []
  },
  {
   "cell_type": "code",
   "execution_count": null,
   "id": "de8490b2-a638-438e-90dd-a4f7dbdceb26",
   "metadata": {},
   "outputs": [],
   "source": []
  },
  {
   "cell_type": "code",
   "execution_count": null,
   "id": "6e0b3f01-8ab6-4d61-8533-f1dc6c8fc66b",
   "metadata": {},
   "outputs": [],
   "source": []
  }
 ],
 "metadata": {
  "kernelspec": {
   "display_name": "Python 3 (ipykernel)",
   "language": "python",
   "name": "python3"
  },
  "language_info": {
   "codemirror_mode": {
    "name": "ipython",
    "version": 3
   },
   "file_extension": ".py",
   "mimetype": "text/x-python",
   "name": "python",
   "nbconvert_exporter": "python",
   "pygments_lexer": "ipython3",
   "version": "3.13.5"
  }
 },
 "nbformat": 4,
 "nbformat_minor": 5
}
